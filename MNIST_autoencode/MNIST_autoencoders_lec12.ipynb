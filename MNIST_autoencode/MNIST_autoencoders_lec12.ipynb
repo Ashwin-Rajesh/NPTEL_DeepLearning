{
 "metadata": {
  "language_info": {
   "codemirror_mode": {
    "name": "ipython",
    "version": 3
   },
   "file_extension": ".py",
   "mimetype": "text/x-python",
   "name": "python",
   "nbconvert_exporter": "python",
   "pygments_lexer": "ipython3",
   "version": "3.7.6-final"
  },
  "orig_nbformat": 2,
  "kernelspec": {
   "name": "python37664bitbasecondae136968380ae4fcdb1cae1051555e6d5",
   "display_name": "Python 3.7.6 64-bit ('base': conda)"
  }
 },
 "nbformat": 4,
 "nbformat_minor": 2,
 "cells": [
  {
   "source": [
    "# Importing libraries and dataset"
   ],
   "cell_type": "markdown",
   "metadata": {}
  },
  {
   "cell_type": "code",
   "execution_count": 14,
   "metadata": {
    "tags": []
   },
   "outputs": [
    {
     "output_type": "stream",
     "name": "stdout",
     "text": "1.5.0\n"
    }
   ],
   "source": [
    "\n",
    "%matplotlib inline\n",
    "import os\n",
    "import copy\n",
    "import torch\n",
    "import codecs\n",
    "import numpy as np\n",
    "import torch.nn as nn\n",
    "import torch.optim as optim\n",
    "import matplotlib.pyplot as plt\n",
    "from torchvision import datasets\n",
    "\n",
    "print(torch.__version__)"
   ]
  },
  {
   "cell_type": "code",
   "execution_count": 15,
   "metadata": {
    "tags": []
   },
   "outputs": [],
   "source": [
    "download = datasets.MNIST(\"./MNIST/\", train=True, download=True)"
   ]
  },
  {
   "cell_type": "code",
   "execution_count": 16,
   "metadata": {},
   "outputs": [],
   "source": [
    "Datapath = \"MNIST/MNIST/raw/\""
   ]
  },
  {
   "source": [
    "# Defining basic functions needed"
   ],
   "cell_type": "markdown",
   "metadata": {}
  },
  {
   "cell_type": "code",
   "execution_count": 17,
   "metadata": {},
   "outputs": [],
   "source": [
    "def get_int(b):\n",
    "    return int(codecs.encode(b, 'hex'), 16)"
   ]
  },
  {
   "cell_type": "code",
   "execution_count": 18,
   "metadata": {},
   "outputs": [],
   "source": [
    "def parse_byte(b):\n",
    "    if isinstance(b, str):\n",
    "        return ord(b)\n",
    "    return b"
   ]
  },
  {
   "cell_type": "code",
   "execution_count": 19,
   "metadata": {},
   "outputs": [],
   "source": [
    "def read_image_file(path):\n",
    "    with open(path, 'rb') as f:\n",
    "        data = f.read()\n",
    "        assert get_int(data[:4]) == 2051\n",
    "        length = get_int(data[4:8])\n",
    "        num_rows = get_int(data[8:12])\n",
    "        num_cols = get_int(data[12:16])\n",
    "        images = []\n",
    "        idx = 16\n",
    "        for l in range(length):\n",
    "            img = []\n",
    "            images.append(img)\n",
    "            for r in range(num_rows):\n",
    "                row = []\n",
    "                img.append(row)\n",
    "                for c in range(num_cols):\n",
    "                    row.append(parse_byte(data[idx]))\n",
    "                    idx += 1\n",
    "        assert len(images) == length\n",
    "        return torch.ByteTensor(images).view(-1,784)"
   ]
  },
  {
   "cell_type": "code",
   "execution_count": 20,
   "metadata": {},
   "outputs": [],
   "source": [
    "def read_label_file(path):\n",
    "    with open(path, 'rb') as f:\n",
    "        data = f.read()\n",
    "        assert get_int(data[:4]) == 2049\n",
    "        length = get_int(data[4:8])\n",
    "        labels = [parse_byte(b) for b in data[8:]]\n",
    "        assert len(labels) == length\n",
    "        return torch.LongTensor(labels)"
   ]
  },
  {
   "cell_type": "code",
   "execution_count": 21,
   "metadata": {},
   "outputs": [],
   "source": [
    "TrainImages = read_image_file(os.path.join(Datapath, 'train-images-idx3-ubyte'))\n",
    "TrainLabels = read_label_file(os.path.join(Datapath, 'train-labels-idx1-ubyte'))\n",
    "TestImages = read_image_file(os.path.join(Datapath, 't10k-images-idx3-ubyte'))\n",
    "TestLabels = read_label_file(os.path.join(Datapath, 't10k-labels-idx1-ubyte'))"
   ]
  },
  {
   "cell_type": "code",
   "execution_count": 26,
   "metadata": {
    "tags": []
   },
   "outputs": [
    {
     "output_type": "stream",
     "name": "stdout",
     "text": "Train images size : torch.Size([60000, 784])\nTrain labels size : torch.Size([60000, 784])\nTest images size  : torch.Size([60000, 784])\nTest labels size  : torch.Size([60000, 784])\n"
    }
   ],
   "source": [
    "print(\"Train images size : \" + str(TrainImages.size()))\n",
    "print(\"Train labels size : \" + str(TrainImages.size()))\n",
    "print(\"Test images size  : \" + str(TrainImages.size()))\n",
    "print(\"Test labels size  : \" + str(TrainImages.size()))"
   ]
  },
  {
   "cell_type": "code",
   "execution_count": 27,
   "metadata": {
    "tags": []
   },
   "outputs": [
    {
     "output_type": "stream",
     "name": "stdout",
     "text": "GPU is available!\n"
    }
   ],
   "source": [
    "use_gpu = torch.cuda.is_available()\n",
    "if use_gpu:\n",
    "    print(\"GPU is available!\")\n",
    "    device = \"cuda\"\n",
    "else:\n",
    "    print(\"GPU is not available\")\n",
    "    device = \"cpu\""
   ]
  },
  {
   "source": [
    "# Defining the autoencoder"
   ],
   "cell_type": "markdown",
   "metadata": {}
  },
  {
   "cell_type": "code",
   "execution_count": 28,
   "metadata": {
    "tags": []
   },
   "outputs": [
    {
     "output_type": "stream",
     "name": "stdout",
     "text": "autoencoder(\n  (encoder): Sequential(\n    (0): Linear(in_features=784, out_features=100, bias=True)\n    (1): ReLU()\n  )\n  (decoder): Sequential(\n    (0): Linear(in_features=100, out_features=784, bias=True)\n    (1): ReLU()\n  )\n)\n"
    }
   ],
   "source": [
    "class autoencoder(nn.Module):\n",
    "    def __init__(self):\n",
    "        super(autoencoder, self).__init__()\n",
    "        self.encoder = nn.Sequential(nn.Linear(28*28, 100), nn.ReLU())\n",
    "        self.decoder = nn.Sequential(nn.Linear(100, 28*28), nn.ReLU())\n",
    "\n",
    "    def forward(self, x):\n",
    "        encoded = self.encoder(x)\n",
    "        decoded = self.decoder(encoded)\n",
    "        return decoded\n",
    "    \n",
    "net = autoencoder()\n",
    "print(net)\n",
    "\n",
    "if use_gpu:\n",
    "    net = net.double().cuda()\n",
    "else:\n",
    "    net = net.double()\n",
    "\n",
    "init_weights = copy.deepcopy(net.encoder[0].weight.data)"
   ]
  },
  {
   "cell_type": "code",
   "execution_count": 29,
   "metadata": {
    "tags": []
   },
   "outputs": [],
   "source": [
    "criterion = nn.MSELoss()\n",
    "optimizer = optim.SGD(net.parameters(), lr=1.5, momentum=0.5)"
   ]
  },
  {
   "cell_type": "code",
   "execution_count": 30,
   "metadata": {
    "tags": []
   },
   "outputs": [
    {
     "output_type": "stream",
     "name": "stdout",
     "text": " Iteratioin   1/150, loss was 0.615\n Iteratioin   2/150, loss was 0.280\n Iteratioin   3/150, loss was 0.167\n Iteratioin   4/150, loss was 0.114\n Iteratioin   5/150, loss was 0.088\n Iteratioin   6/150, loss was 0.071\n Iteratioin   7/150, loss was 0.060\n Iteratioin   8/150, loss was 0.052\n Iteratioin   9/150, loss was 0.046\n Iteratioin  10/150, loss was 0.041\n Iteratioin  11/150, loss was 0.036\n Iteratioin  12/150, loss was 0.033\n Iteratioin  13/150, loss was 0.030\n Iteratioin  14/150, loss was 0.027\n Iteratioin  15/150, loss was 0.025\n Iteratioin  16/150, loss was 0.023\n Iteratioin  17/150, loss was 0.021\n Iteratioin  18/150, loss was 0.020\n Iteratioin  19/150, loss was 0.018\n Iteratioin  20/150, loss was 0.017\n Iteratioin  21/150, loss was 0.016\n Iteratioin  22/150, loss was 0.015\n Iteratioin  23/150, loss was 0.014\n Iteratioin  24/150, loss was 0.013\n Iteratioin  25/150, loss was 0.013\n Iteratioin  26/150, loss was 0.012\n Iteratioin  27/150, loss was 0.011\n Iteratioin  28/150, loss was 0.011\n Iteratioin  29/150, loss was 0.010\n Iteratioin  30/150, loss was 0.010\n Iteratioin  31/150, loss was 0.009\n Iteratioin  32/150, loss was 0.009\n Iteratioin  33/150, loss was 0.008\n Iteratioin  34/150, loss was 0.008\n Iteratioin  35/150, loss was 0.008\n Iteratioin  36/150, loss was 0.007\n Iteratioin  37/150, loss was 0.007\n Iteratioin  38/150, loss was 0.007\n Iteratioin  39/150, loss was 0.007\n Iteratioin  40/150, loss was 0.006\n Iteratioin  41/150, loss was 0.006\n Iteratioin  42/150, loss was 0.006\n Iteratioin  43/150, loss was 0.006\n Iteratioin  44/150, loss was 0.006\n Iteratioin  45/150, loss was 0.005\n Iteratioin  46/150, loss was 0.005\n Iteratioin  47/150, loss was 0.005\n Iteratioin  48/150, loss was 0.005\n Iteratioin  49/150, loss was 0.005\n Iteratioin  50/150, loss was 0.005\n Iteratioin  51/150, loss was 0.005\n Iteratioin  52/150, loss was 0.004\n Iteratioin  53/150, loss was 0.004\n Iteratioin  54/150, loss was 0.004\n Iteratioin  55/150, loss was 0.004\n Iteratioin  56/150, loss was 0.004\n Iteratioin  57/150, loss was 0.004\n Iteratioin  58/150, loss was 0.004\n Iteratioin  59/150, loss was 0.004\n Iteratioin  60/150, loss was 0.004\n Iteratioin  61/150, loss was 0.004\n Iteratioin  62/150, loss was 0.003\n Iteratioin  63/150, loss was 0.003\n Iteratioin  64/150, loss was 0.003\n Iteratioin  65/150, loss was 0.003\n Iteratioin  66/150, loss was 0.003\n Iteratioin  67/150, loss was 0.003\n Iteratioin  68/150, loss was 0.003\n Iteratioin  69/150, loss was 0.003\n Iteratioin  70/150, loss was 0.003\n Iteratioin  71/150, loss was 0.003\n Iteratioin  72/150, loss was 0.003\n Iteratioin  73/150, loss was 0.003\n Iteratioin  74/150, loss was 0.003\n Iteratioin  75/150, loss was 0.003\n Iteratioin  76/150, loss was 0.003\n Iteratioin  77/150, loss was 0.003\n Iteratioin  78/150, loss was 0.003\n Iteratioin  79/150, loss was 0.002\n Iteratioin  80/150, loss was 0.002\n Iteratioin  81/150, loss was 0.002\n Iteratioin  82/150, loss was 0.002\n Iteratioin  83/150, loss was 0.002\n Iteratioin  84/150, loss was 0.002\n Iteratioin  85/150, loss was 0.002\n Iteratioin  86/150, loss was 0.002\n Iteratioin  87/150, loss was 0.002\n Iteratioin  88/150, loss was 0.002\n Iteratioin  89/150, loss was 0.002\n Iteratioin  90/150, loss was 0.002\n Iteratioin  91/150, loss was 0.002\n Iteratioin  92/150, loss was 0.002\n Iteratioin  93/150, loss was 0.002\n Iteratioin  94/150, loss was 0.002\n Iteratioin  95/150, loss was 0.002\n Iteratioin  96/150, loss was 0.002\n Iteratioin  97/150, loss was 0.002\n Iteratioin  98/150, loss was 0.002\n Iteratioin  99/150, loss was 0.002\n Iteratioin 100/150, loss was 0.002\n"
    },
    {
     "output_type": "error",
     "ename": "KeyboardInterrupt",
     "evalue": "",
     "traceback": [
      "\u001b[0;31m---------------------------------------------------------------------------\u001b[0m",
      "\u001b[0;31mKeyboardInterrupt\u001b[0m                         Traceback (most recent call last)",
      "\u001b[0;32m&lt;ipython-input-30-67a3952f722f&gt;\u001b[0m in \u001b[0;36m&lt;module&gt;\u001b[0;34m\u001b[0m\n\u001b[1;32m      5\u001b[0m     \u001b[0;32mfor\u001b[0m \u001b[0mi\u001b[0m \u001b[0;32min\u001b[0m \u001b[0mrange\u001b[0m\u001b[0;34m(\u001b[0m\u001b[0mint\u001b[0m\u001b[0;34m(\u001b[0m\u001b[0mTrainImages\u001b[0m\u001b[0;34m.\u001b[0m\u001b[0mshape\u001b[0m\u001b[0;34m[\u001b[0m\u001b[0;36m0\u001b[0m\u001b[0;34m]\u001b[0m\u001b[0;34m/\u001b[0m\u001b[0mBatchSize\u001b[0m\u001b[0;34m)\u001b[0m\u001b[0;34m)\u001b[0m\u001b[0;34m:\u001b[0m\u001b[0;34m\u001b[0m\u001b[0;34m\u001b[0m\u001b[0m\n\u001b[1;32m      6\u001b[0m         \u001b[0minputs\u001b[0m \u001b[0;34m=\u001b[0m \u001b[0mtorch\u001b[0m\u001b[0;34m.\u001b[0m\u001b[0mindex_select\u001b[0m\u001b[0;34m(\u001b[0m\u001b[0mTrainImages\u001b[0m\u001b[0;34m,\u001b[0m \u001b[0;36m0\u001b[0m\u001b[0;34m,\u001b[0m \u001b[0mtorch\u001b[0m\u001b[0;34m.\u001b[0m\u001b[0mlinspace\u001b[0m\u001b[0;34m(\u001b[0m\u001b[0mi\u001b[0m\u001b[0;34m*\u001b[0m\u001b[0mBatchSize\u001b[0m\u001b[0;34m,\u001b[0m \u001b[0;34m(\u001b[0m\u001b[0mi\u001b[0m\u001b[0;34m+\u001b[0m\u001b[0;36m1\u001b[0m\u001b[0;34m)\u001b[0m\u001b[0;34m*\u001b[0m\u001b[0mBatchSize\u001b[0m\u001b[0;34m-\u001b[0m\u001b[0;36m1\u001b[0m\u001b[0;34m,\u001b[0m \u001b[0msteps\u001b[0m\u001b[0;34m=\u001b[0m\u001b[0mBatchSize\u001b[0m\u001b[0;34m)\u001b[0m\u001b[0;34m.\u001b[0m\u001b[0mlong\u001b[0m\u001b[0;34m(\u001b[0m\u001b[0;34m)\u001b[0m\u001b[0;34m)\u001b[0m\u001b[0;34m.\u001b[0m\u001b[0mdouble\u001b[0m\u001b[0;34m(\u001b[0m\u001b[0;34m)\u001b[0m\u001b[0;34m\u001b[0m\u001b[0;34m\u001b[0m\u001b[0m\n\u001b[0;32m----&gt; 7\u001b[0;31m         \u001b[0minputs\u001b[0m \u001b[0;34m=\u001b[0m \u001b[0minputs\u001b[0m\u001b[0;34m/\u001b[0m\u001b[0;36m255\u001b[0m\u001b[0;34m\u001b[0m\u001b[0;34m\u001b[0m\u001b[0m\n\u001b[0m\u001b[1;32m      8\u001b[0m         \u001b[0minputs\u001b[0m \u001b[0;34m=\u001b[0m \u001b[0minputs\u001b[0m\u001b[0;34m.\u001b[0m\u001b[0mto\u001b[0m\u001b[0;34m(\u001b[0m\u001b[0mdevice\u001b[0m\u001b[0;34m)\u001b[0m\u001b[0;34m\u001b[0m\u001b[0;34m\u001b[0m\u001b[0m\n\u001b[1;32m      9\u001b[0m         \u001b[0moptimizer\u001b[0m\u001b[0;34m.\u001b[0m\u001b[0mzero_grad\u001b[0m\u001b[0;34m(\u001b[0m\u001b[0;34m)\u001b[0m\u001b[0;34m\u001b[0m\u001b[0;34m\u001b[0m\u001b[0m\n",
      "\u001b[0;31mKeyboardInterrupt\u001b[0m: "
     ]
    }
   ],
   "source": [
    "iterations = 100\n",
    "BatchSize = 10000\n",
    "for epoch in range(iterations):\n",
    "    runningLoss = 0\n",
    "    for i in range(int(TrainImages.shape[0]/BatchSize)):\n",
    "        inputs = torch.index_select(TrainImages, 0, torch.linspace(i*BatchSize, (i+1)*BatchSize-1, steps=BatchSize).long()).double()\n",
    "        inputs = inputs/255\n",
    "        inputs = inputs.to(device)\n",
    "        optimizer.zero_grad()\n",
    "        outputs = net(inputs)\n",
    "        loss = criterion(outputs, inputs)\n",
    "        loss.backward()\n",
    "        optimizer.step()\n",
    "        runningLoss += loss.item()\n",
    "    print(\" Iteratioin %3d/%3d, loss was %2.3f\"%(epoch+1, iterations, runningLoss/(epoch+1)))\n",
    "print(\"Finished training\")"
   ]
  },
  {
   "cell_type": "code",
   "execution_count": 32,
   "metadata": {
    "tags": []
   },
   "outputs": [
    {
     "output_type": "execute_result",
     "data": {
      "text/plain": "&lt;matplotlib.image.AxesImage at 0x7f447b3fab10&gt;"
     },
     "metadata": {},
     "execution_count": 32
    },
    {
     "output_type": "display_data",
     "data": {
      "image/png": "[encoded data removed]",
      "text/plain": "&lt;Figure size 432x288 with 2 Axes&gt;",
      "image/svg+xml": "<?xml version=\"1.0\" encoding=\"utf-8\" standalone=\"no\"?>\n<!DOCTYPE svg PUBLIC \"-//W3C//DTD SVG 1.1//EN\"\n  \"http://www.w3.org/Graphics/SVG/1.1/DTD/svg11.dtd\">\n<!-- Created with matplotlib (http://matplotlib.org/) -->\n<svg height=\"263.63625pt\" version=\"1.1\" viewBox=\"0 0 136.461364 263.63625\" width=\"136.461364pt\" xmlns=\"http://www.w3.org/2000/svg\" xmlns:xlink=\"http://www.w3.org/1999/xlink\">\n <defs>\n  <style type=\"text/css\">\n*{stroke-linecap:butt;stroke-linejoin:round;}\n  </style>\n </defs>\n <g id=\"figure_1\">\n  <g id=\"patch_1\">\n   <path d=\"M 0 263.63625 \nL 136.461364 263.63625 \nL 136.461364 0 \nL 0 0 \nz\n\" style=\"fill:none;\"/>\n  </g>\n  <g id=\"axes_1\">\n   <g id=\"patch_2\">\n    <path d=\"M 26.925 121.154489 \nL 125.761364 121.154489 \nL 125.761364 22.318125 \nL 26.925 22.318125 \nz\n\" style=\"fill:#ffffff;\"/>\n   </g>\n   <g clip-path=\"url(#p7abc716d42)\">\n    <image height=\"99\" id=\"image436db530ce\" transform=\"scale(1 -1)translate(0 -99)\" width=\"99\" x=\"26.925\" xlink:href=\"data:image/png;base64,\niVBORw0KGgoAAAANSUhEUgAAAGMAAABjCAYAAACPO76VAAAABHNCSVQICAgIfAhkiAAAA5dJREFUeJztnM8r+3Ecx9++46BcRrmsiZSSYmgnZX5cRHLgxNnJX+BgcXBx3UG5q6VWK5eddkBrxEGIhAtJKSlEUb631/f9+tR81+zNc9vzcXq+etX2qkevz/uz7dOqjDGfhkDw57cHIP+gDCAoA4jq3x7AZn5+XtXLy8uSDw8PVW94eFjyw8OD28F+CG4GEJQBBNRl6iu6urpUvbu7K3l8fFz1zs7OfmSmYsPNAIIygKAMIKDOjO3tbVU/Pz9LrqurU73W1tacvVKFmwEEZQABdZna2dlRdSwWk+z9dF6OcDOAoAwgKAMIqDPDy9ramuSZmRnVa2pqkhyJRFTv4OBA1Z+fpfFjJjcDCMoAosqUyAMJbW1tqv7qm9mJiQlVb25uOpmp2HAzgKAMICgDiJI5M3w+n6qz2azk3t5e1bu8vFT1yMhIzh4S3AwgKAOIkrlMeWloaJC8t7enei0tLaqOx+OSp6en3Q72DbgZQFAGEJQBRMmeGTZjY2OqTiaTqn55eZFs3+Yao2+RfxtuBhCUAURZXKa8RKNRVS8uLkpOpVKqNzo6+hMj5QU3AwjKAIIygCjLM6O2tlbV9sNxHR0dqjc0NCQ5k8m4Hew/cDOAoAwgoJ+bKpTX11dV27ez3d3dqre0tCTZe5v7/v7uYLrccDOAoAwgKAOIsry19dLX1yc5nU6rXk1NjeSBgQHV29racjqXF24GEJQBBGUAURFnho39ucIYYxYWFiQ/Pj6qXn9/v+Tj42O3gxluBhSUAUTFXaYaGxtVfXR0lLM3NTUlOZFIuB3McDOgoAwgKAOIijszvExOTkre2NhQPft2dnBwUPVc/EklNwMIygAC+jLl9/slh0Ih1bP/BSEcDuf9mm9vb6o+Pz+XfHp6qnr19fWS5+bmVG91dTXv98wXbgYQlAEEZQDh5OkQ+3/KjTGms7NTsve63N7eLrmnp0f17F/eAoGA6l1fX0sOBoN5z/bx8aHq+/t7yfYZ4cX+g0pXcDOAoAwgnNzaXl1dqbq5ubmg13l6epJ8cnLynZEK4ubmRvLKyorq7e/vF/39uBlAUAYQlAGEkzPD/oXMGGNmZ2cl397eqp799cT6+rrq3d3dSb64uCjmiJBwM4CgDCCgv7WtNLgZQFAGEJQBBGUAQRlAUAYQlAEEZQBBGUBQBhCUAQRlAEEZQFAGEJQBBGUAQRlAUAYQlAEEZQBBGUBQBhCUAQRlAPEX2ZXC7semg+UAAAAASUVORK5CYII=\" y=\"-22.154489\"/>\n   </g>\n   <g id=\"matplotlib.axis_1\">\n    <g id=\"xtick_1\">\n     <g id=\"line2d_1\">\n      <defs>\n       <path d=\"M 0 0 \nL 0 3.5 \n\" id=\"m43214035ec\" style=\"stroke:#000000;stroke-width:0.8;\"/>\n      </defs>\n      <g>\n       <use style=\"stroke:#000000;stroke-width:0.8;\" x=\"28.689935\" xlink:href=\"#m43214035ec\" y=\"121.154489\"/>\n      </g>\n     </g>\n     <g id=\"text_1\">\n      <!-- 0 -->\n      <defs>\n       <path d=\"M 31.78125 66.40625 \nQ 24.171875 66.40625 20.328125 58.90625 \nQ 16.5 51.421875 16.5 36.375 \nQ 16.5 21.390625 20.328125 13.890625 \nQ 24.171875 6.390625 31.78125 6.390625 \nQ 39.453125 6.390625 43.28125 13.890625 \nQ 47.125 21.390625 47.125 36.375 \nQ 47.125 51.421875 43.28125 58.90625 \nQ 39.453125 66.40625 31.78125 66.40625 \nz\nM 31.78125 74.21875 \nQ 44.046875 74.21875 50.515625 64.515625 \nQ 56.984375 54.828125 56.984375 36.375 \nQ 56.984375 17.96875 50.515625 8.265625 \nQ 44.046875 -1.421875 31.78125 -1.421875 \nQ 19.53125 -1.421875 13.0625 8.265625 \nQ 6.59375 17.96875 6.59375 36.375 \nQ 6.59375 54.828125 13.0625 64.515625 \nQ 19.53125 74.21875 31.78125 74.21875 \nz\n\" id=\"DejaVuSans-30\"/>\n      </defs>\n      <g transform=\"translate(25.508685 135.752926)scale(0.1 -0.1)\">\n       <use xlink:href=\"#DejaVuSans-30\"/>\n      </g>\n     </g>\n    </g>\n    <g id=\"xtick_2\">\n     <g id=\"line2d_2\">\n      <g>\n       <use style=\"stroke:#000000;stroke-width:0.8;\" x=\"63.988636\" xlink:href=\"#m43214035ec\" y=\"121.154489\"/>\n      </g>\n     </g>\n     <g id=\"text_2\">\n      <!-- 10 -->\n      <defs>\n       <path d=\"M 12.40625 8.296875 \nL 28.515625 8.296875 \nL 28.515625 63.921875 \nL 10.984375 60.40625 \nL 10.984375 69.390625 \nL 28.421875 72.90625 \nL 38.28125 72.90625 \nL 38.28125 8.296875 \nL 54.390625 8.296875 \nL 54.390625 0 \nL 12.40625 0 \nz\n\" id=\"DejaVuSans-31\"/>\n      </defs>\n      <g transform=\"translate(57.626136 135.752926)scale(0.1 -0.1)\">\n       <use xlink:href=\"#DejaVuSans-31\"/>\n       <use x=\"63.623047\" xlink:href=\"#DejaVuSans-30\"/>\n      </g>\n     </g>\n    </g>\n    <g id=\"xtick_3\">\n     <g id=\"line2d_3\">\n      <g>\n       <use style=\"stroke:#000000;stroke-width:0.8;\" x=\"99.287338\" xlink:href=\"#m43214035ec\" y=\"121.154489\"/>\n      </g>\n     </g>\n     <g id=\"text_3\">\n      <!-- 20 -->\n      <defs>\n       <path d=\"M 19.1875 8.296875 \nL 53.609375 8.296875 \nL 53.609375 0 \nL 7.328125 0 \nL 7.328125 8.296875 \nQ 12.9375 14.109375 22.625 23.890625 \nQ 32.328125 33.6875 34.8125 36.53125 \nQ 39.546875 41.84375 41.421875 45.53125 \nQ 43.3125 49.21875 43.3125 52.78125 \nQ 43.3125 58.59375 39.234375 62.25 \nQ 35.15625 65.921875 28.609375 65.921875 \nQ 23.96875 65.921875 18.8125 64.3125 \nQ 13.671875 62.703125 7.8125 59.421875 \nL 7.8125 69.390625 \nQ 13.765625 71.78125 18.9375 73 \nQ 24.125 74.21875 28.421875 74.21875 \nQ 39.75 74.21875 46.484375 68.546875 \nQ 53.21875 62.890625 53.21875 53.421875 \nQ 53.21875 48.921875 51.53125 44.890625 \nQ 49.859375 40.875 45.40625 35.40625 \nQ 44.1875 33.984375 37.640625 27.21875 \nQ 31.109375 20.453125 19.1875 8.296875 \nz\n\" id=\"DejaVuSans-32\"/>\n      </defs>\n      <g transform=\"translate(92.924838 135.752926)scale(0.1 -0.1)\">\n       <use xlink:href=\"#DejaVuSans-32\"/>\n       <use x=\"63.623047\" xlink:href=\"#DejaVuSans-30\"/>\n      </g>\n     </g>\n    </g>\n   </g>\n   <g id=\"matplotlib.axis_2\">\n    <g id=\"ytick_1\">\n     <g id=\"line2d_4\">\n      <defs>\n       <path d=\"M 0 0 \nL -3.5 0 \n\" id=\"m5e80c50185\" style=\"stroke:#000000;stroke-width:0.8;\"/>\n      </defs>\n      <g>\n       <use style=\"stroke:#000000;stroke-width:0.8;\" x=\"26.925\" xlink:href=\"#m5e80c50185\" y=\"24.08306\"/>\n      </g>\n     </g>\n     <g id=\"text_4\">\n      <!-- 0 -->\n      <g transform=\"translate(13.5625 27.882279)scale(0.1 -0.1)\">\n       <use xlink:href=\"#DejaVuSans-30\"/>\n      </g>\n     </g>\n    </g>\n    <g id=\"ytick_2\">\n     <g id=\"line2d_5\">\n      <g>\n       <use style=\"stroke:#000000;stroke-width:0.8;\" x=\"26.925\" xlink:href=\"#m5e80c50185\" y=\"59.381761\"/>\n      </g>\n     </g>\n     <g id=\"text_5\">\n      <!-- 10 -->\n      <g transform=\"translate(7.2 63.18098)scale(0.1 -0.1)\">\n       <use xlink:href=\"#DejaVuSans-31\"/>\n       <use x=\"63.623047\" xlink:href=\"#DejaVuSans-30\"/>\n      </g>\n     </g>\n    </g>\n    <g id=\"ytick_3\">\n     <g id=\"line2d_6\">\n      <g>\n       <use style=\"stroke:#000000;stroke-width:0.8;\" x=\"26.925\" xlink:href=\"#m5e80c50185\" y=\"94.680463\"/>\n      </g>\n     </g>\n     <g id=\"text_6\">\n      <!-- 20 -->\n      <g transform=\"translate(7.2 98.479681)scale(0.1 -0.1)\">\n       <use xlink:href=\"#DejaVuSans-32\"/>\n       <use x=\"63.623047\" xlink:href=\"#DejaVuSans-30\"/>\n      </g>\n     </g>\n    </g>\n   </g>\n   <g id=\"patch_3\">\n    <path d=\"M 26.925 121.154489 \nL 26.925 22.318125 \n\" style=\"fill:none;stroke:#000000;stroke-linecap:square;stroke-linejoin:miter;stroke-width:0.8;\"/>\n   </g>\n   <g id=\"patch_4\">\n    <path d=\"M 125.761364 121.154489 \nL 125.761364 22.318125 \n\" style=\"fill:none;stroke:#000000;stroke-linecap:square;stroke-linejoin:miter;stroke-width:0.8;\"/>\n   </g>\n   <g id=\"patch_5\">\n    <path d=\"M 26.925 121.154489 \nL 125.761364 121.154489 \n\" style=\"fill:none;stroke:#000000;stroke-linecap:square;stroke-linejoin:miter;stroke-width:0.8;\"/>\n   </g>\n   <g id=\"patch_6\">\n    <path d=\"M 26.925 22.318125 \nL 125.761364 22.318125 \n\" style=\"fill:none;stroke:#000000;stroke-linecap:square;stroke-linejoin:miter;stroke-width:0.8;\"/>\n   </g>\n   <g id=\"text_7\">\n    <!-- Input image -->\n    <defs>\n     <path d=\"M 9.8125 72.90625 \nL 19.671875 72.90625 \nL 19.671875 0 \nL 9.8125 0 \nz\n\" id=\"DejaVuSans-49\"/>\n     <path d=\"M 54.890625 33.015625 \nL 54.890625 0 \nL 45.90625 0 \nL 45.90625 32.71875 \nQ 45.90625 40.484375 42.875 44.328125 \nQ 39.84375 48.1875 33.796875 48.1875 \nQ 26.515625 48.1875 22.3125 43.546875 \nQ 18.109375 38.921875 18.109375 30.90625 \nL 18.109375 0 \nL 9.078125 0 \nL 9.078125 54.6875 \nL 18.109375 54.6875 \nL 18.109375 46.1875 \nQ 21.34375 51.125 25.703125 53.5625 \nQ 30.078125 56 35.796875 56 \nQ 45.21875 56 50.046875 50.171875 \nQ 54.890625 44.34375 54.890625 33.015625 \nz\n\" id=\"DejaVuSans-6e\"/>\n     <path d=\"M 18.109375 8.203125 \nL 18.109375 -20.796875 \nL 9.078125 -20.796875 \nL 9.078125 54.6875 \nL 18.109375 54.6875 \nL 18.109375 46.390625 \nQ 20.953125 51.265625 25.265625 53.625 \nQ 29.59375 56 35.59375 56 \nQ 45.5625 56 51.78125 48.09375 \nQ 58.015625 40.1875 58.015625 27.296875 \nQ 58.015625 14.40625 51.78125 6.484375 \nQ 45.5625 -1.421875 35.59375 -1.421875 \nQ 29.59375 -1.421875 25.265625 0.953125 \nQ 20.953125 3.328125 18.109375 8.203125 \nz\nM 48.6875 27.296875 \nQ 48.6875 37.203125 44.609375 42.84375 \nQ 40.53125 48.484375 33.40625 48.484375 \nQ 26.265625 48.484375 22.1875 42.84375 \nQ 18.109375 37.203125 18.109375 27.296875 \nQ 18.109375 17.390625 22.1875 11.75 \nQ 26.265625 6.109375 33.40625 6.109375 \nQ 40.53125 6.109375 44.609375 11.75 \nQ 48.6875 17.390625 48.6875 27.296875 \nz\n\" id=\"DejaVuSans-70\"/>\n     <path d=\"M 8.5 21.578125 \nL 8.5 54.6875 \nL 17.484375 54.6875 \nL 17.484375 21.921875 \nQ 17.484375 14.15625 20.5 10.265625 \nQ 23.53125 6.390625 29.59375 6.390625 \nQ 36.859375 6.390625 41.078125 11.03125 \nQ 45.3125 15.671875 45.3125 23.6875 \nL 45.3125 54.6875 \nL 54.296875 54.6875 \nL 54.296875 0 \nL 45.3125 0 \nL 45.3125 8.40625 \nQ 42.046875 3.421875 37.71875 1 \nQ 33.40625 -1.421875 27.6875 -1.421875 \nQ 18.265625 -1.421875 13.375 4.4375 \nQ 8.5 10.296875 8.5 21.578125 \nz\nM 31.109375 56 \nz\n\" id=\"DejaVuSans-75\"/>\n     <path d=\"M 18.3125 70.21875 \nL 18.3125 54.6875 \nL 36.8125 54.6875 \nL 36.8125 47.703125 \nL 18.3125 47.703125 \nL 18.3125 18.015625 \nQ 18.3125 11.328125 20.140625 9.421875 \nQ 21.96875 7.515625 27.59375 7.515625 \nL 36.8125 7.515625 \nL 36.8125 0 \nL 27.59375 0 \nQ 17.1875 0 13.234375 3.875 \nQ 9.28125 7.765625 9.28125 18.015625 \nL 9.28125 47.703125 \nL 2.6875 47.703125 \nL 2.6875 54.6875 \nL 9.28125 54.6875 \nL 9.28125 70.21875 \nz\n\" id=\"DejaVuSans-74\"/>\n     <path id=\"DejaVuSans-20\"/>\n     <path d=\"M 9.421875 54.6875 \nL 18.40625 54.6875 \nL 18.40625 0 \nL 9.421875 0 \nz\nM 9.421875 75.984375 \nL 18.40625 75.984375 \nL 18.40625 64.59375 \nL 9.421875 64.59375 \nz\n\" id=\"DejaVuSans-69\"/>\n     <path d=\"M 52 44.1875 \nQ 55.375 50.25 60.0625 53.125 \nQ 64.75 56 71.09375 56 \nQ 79.640625 56 84.28125 50.015625 \nQ 88.921875 44.046875 88.921875 33.015625 \nL 88.921875 0 \nL 79.890625 0 \nL 79.890625 32.71875 \nQ 79.890625 40.578125 77.09375 44.375 \nQ 74.3125 48.1875 68.609375 48.1875 \nQ 61.625 48.1875 57.5625 43.546875 \nQ 53.515625 38.921875 53.515625 30.90625 \nL 53.515625 0 \nL 44.484375 0 \nL 44.484375 32.71875 \nQ 44.484375 40.625 41.703125 44.40625 \nQ 38.921875 48.1875 33.109375 48.1875 \nQ 26.21875 48.1875 22.15625 43.53125 \nQ 18.109375 38.875 18.109375 30.90625 \nL 18.109375 0 \nL 9.078125 0 \nL 9.078125 54.6875 \nL 18.109375 54.6875 \nL 18.109375 46.1875 \nQ 21.1875 51.21875 25.484375 53.609375 \nQ 29.78125 56 35.6875 56 \nQ 41.65625 56 45.828125 52.96875 \nQ 50 49.953125 52 44.1875 \nz\n\" id=\"DejaVuSans-6d\"/>\n     <path d=\"M 34.28125 27.484375 \nQ 23.390625 27.484375 19.1875 25 \nQ 14.984375 22.515625 14.984375 16.5 \nQ 14.984375 11.71875 18.140625 8.90625 \nQ 21.296875 6.109375 26.703125 6.109375 \nQ 34.1875 6.109375 38.703125 11.40625 \nQ 43.21875 16.703125 43.21875 25.484375 \nL 43.21875 27.484375 \nz\nM 52.203125 31.203125 \nL 52.203125 0 \nL 43.21875 0 \nL 43.21875 8.296875 \nQ 40.140625 3.328125 35.546875 0.953125 \nQ 30.953125 -1.421875 24.3125 -1.421875 \nQ 15.921875 -1.421875 10.953125 3.296875 \nQ 6 8.015625 6 15.921875 \nQ 6 25.140625 12.171875 29.828125 \nQ 18.359375 34.515625 30.609375 34.515625 \nL 43.21875 34.515625 \nL 43.21875 35.40625 \nQ 43.21875 41.609375 39.140625 45 \nQ 35.0625 48.390625 27.6875 48.390625 \nQ 23 48.390625 18.546875 47.265625 \nQ 14.109375 46.140625 10.015625 43.890625 \nL 10.015625 52.203125 \nQ 14.9375 54.109375 19.578125 55.046875 \nQ 24.21875 56 28.609375 56 \nQ 40.484375 56 46.34375 49.84375 \nQ 52.203125 43.703125 52.203125 31.203125 \nz\n\" id=\"DejaVuSans-61\"/>\n     <path d=\"M 45.40625 27.984375 \nQ 45.40625 37.75 41.375 43.109375 \nQ 37.359375 48.484375 30.078125 48.484375 \nQ 22.859375 48.484375 18.828125 43.109375 \nQ 14.796875 37.75 14.796875 27.984375 \nQ 14.796875 18.265625 18.828125 12.890625 \nQ 22.859375 7.515625 30.078125 7.515625 \nQ 37.359375 7.515625 41.375 12.890625 \nQ 45.40625 18.265625 45.40625 27.984375 \nz\nM 54.390625 6.78125 \nQ 54.390625 -7.171875 48.1875 -13.984375 \nQ 42 -20.796875 29.203125 -20.796875 \nQ 24.46875 -20.796875 20.265625 -20.09375 \nQ 16.0625 -19.390625 12.109375 -17.921875 \nL 12.109375 -9.1875 \nQ 16.0625 -11.328125 19.921875 -12.34375 \nQ 23.78125 -13.375 27.78125 -13.375 \nQ 36.625 -13.375 41.015625 -8.765625 \nQ 45.40625 -4.15625 45.40625 5.171875 \nL 45.40625 9.625 \nQ 42.625 4.78125 38.28125 2.390625 \nQ 33.9375 0 27.875 0 \nQ 17.828125 0 11.671875 7.65625 \nQ 5.515625 15.328125 5.515625 27.984375 \nQ 5.515625 40.671875 11.671875 48.328125 \nQ 17.828125 56 27.875 56 \nQ 33.9375 56 38.28125 53.609375 \nQ 42.625 51.21875 45.40625 46.390625 \nL 45.40625 54.6875 \nL 54.390625 54.6875 \nz\n\" id=\"DejaVuSans-67\"/>\n     <path d=\"M 56.203125 29.59375 \nL 56.203125 25.203125 \nL 14.890625 25.203125 \nQ 15.484375 15.921875 20.484375 11.0625 \nQ 25.484375 6.203125 34.421875 6.203125 \nQ 39.59375 6.203125 44.453125 7.46875 \nQ 49.3125 8.734375 54.109375 11.28125 \nL 54.109375 2.78125 \nQ 49.265625 0.734375 44.1875 -0.34375 \nQ 39.109375 -1.421875 33.890625 -1.421875 \nQ 20.796875 -1.421875 13.15625 6.1875 \nQ 5.515625 13.8125 5.515625 26.8125 \nQ 5.515625 40.234375 12.765625 48.109375 \nQ 20.015625 56 32.328125 56 \nQ 43.359375 56 49.78125 48.890625 \nQ 56.203125 41.796875 56.203125 29.59375 \nz\nM 47.21875 32.234375 \nQ 47.125 39.59375 43.09375 43.984375 \nQ 39.0625 48.390625 32.421875 48.390625 \nQ 24.90625 48.390625 20.390625 44.140625 \nQ 15.875 39.890625 15.1875 32.171875 \nz\n\" id=\"DejaVuSans-65\"/>\n    </defs>\n    <g transform=\"translate(40.210994 16.318125)scale(0.12 -0.12)\">\n     <use xlink:href=\"#DejaVuSans-49\"/>\n     <use x=\"29.492188\" xlink:href=\"#DejaVuSans-6e\"/>\n     <use x=\"92.871094\" xlink:href=\"#DejaVuSans-70\"/>\n     <use x=\"156.347656\" xlink:href=\"#DejaVuSans-75\"/>\n     <use x=\"219.726562\" xlink:href=\"#DejaVuSans-74\"/>\n     <use x=\"258.935547\" xlink:href=\"#DejaVuSans-20\"/>\n     <use x=\"290.722656\" xlink:href=\"#DejaVuSans-69\"/>\n     <use x=\"318.505859\" xlink:href=\"#DejaVuSans-6d\"/>\n     <use x=\"415.917969\" xlink:href=\"#DejaVuSans-61\"/>\n     <use x=\"477.197266\" xlink:href=\"#DejaVuSans-67\"/>\n     <use x=\"540.673828\" xlink:href=\"#DejaVuSans-65\"/>\n    </g>\n   </g>\n  </g>\n  <g id=\"axes_2\">\n   <g id=\"patch_7\">\n    <path d=\"M 26.925 239.758125 \nL 125.761364 239.758125 \nL 125.761364 140.921761 \nL 26.925 140.921761 \nz\n\" style=\"fill:#ffffff;\"/>\n   </g>\n   <g clip-path=\"url(#p9cb56820ca)\">\n    <image height=\"99\" id=\"image6938860767\" transform=\"scale(1 -1)translate(0 -99)\" width=\"99\" x=\"26.925\" xlink:href=\"data:image/png;base64,\niVBORw0KGgoAAAANSUhEUgAAAGMAAABjCAYAAACPO76VAAAABHNCSVQICAgIfAhkiAAABSNJREFUeJztnUsotV0Ux/fBcc+d3EeShISiFDJjQkqRDAwMzJXESCYyMjNWZiaUASkxcim5RpJccstA7nfe2XrXWn3nfMfxnOcsr/Ub/VfrXHb9W+vZZz/72cfhdDo/DeL19dVYTWBgIOj393fLP/9fIcDfA1D+omYIQs0QhMMY8/m/r/ITXV1doAcGBly+rqWlhcSjo6OWj8XpdJLYF9dWrQxBqBmC8HubysjIAH18fOzx+wYHB0Fvbm6S3OLiIol3dna8HJ29aGUIQs0QhJohiCC7v7CwsJDEq6uroDs7O0muqakJNJ9aXl5egl5bWyO5q6srj8eDP9cX09WvoJUhCDVDELa0qZycHNDn5+ckl5eXB3p7e5vk5ufnQZeXl5NcdHT0f2pjjLm4uPB4bP5uTRitDEGoGYJQMwRhy3JIREQE6Pv7e5evy8zMJHFCQgLolZUVktvf3wd9cnJCcr29vSSem5vzfLB+RCtDEGqGIGyZ2rprTZijoyOXcUdHB8nd3NyATkpKIrna2loSHxwcgD48PPRoLP5AK0MQaoYg1AxB2L5q6y2Tk5MkLioqAl1XV0dyfGU4LCzMdwOzEK0MQagZgvgxbYpPe/Emg/b2dpLjv8jr6+tBDw0Nkdzj46NVQ/w2WhmCUDMEoWYI4sdcMzgzMzMuc2lpaSSenp4Gzae5/f39oP19108rQxBqhiD8vtcWExISQuLn52eXr8WPpvFHAqqrq0mcn58Puri4mOTwL3l+A8tutDIEoWYIQs0QhGVT29jYWNBf2euKSUlJITG+Q8fBjzCPjY2RXGJiost4ZGSE5PCzHG9vbyS3vr7ufsAWo5UhCDVDEJa1KW9bE4a3paioKNB4AwLn4eGBxMPDwySOiYkBzW9E4T1dfLVX29QvRs0QhJohCFtWbfHzE9fX1x6/D18ncG83xv3GOJ5bXl4GXVNTQ3J4OWRhYYHksrKyQO/t7Xkw4u+hlSEINUMQaoYgfHLNCA8PJ/HT09O3P5NfB75yutvExATo0tJSkuvp6XH5vubmZtB6zfhlqBmCsKxN5ebmgubTV77M4A1WHb51enrqMre1tUVi3Jr4Bgh8QoNVaGUIQs0QhJohCMuuGS8vL6Czs7NJLj4+HnRAAPUf915+lAVeAgkNDSU5vJOEn+AWGRlJ4ru7O9D4kWVj6FIJn5LjDW+VlZUkx+8uWoFWhiDUDEFY1qbwNLC1tZXk8B083gpwS+HTV9x++C9wfHrC2dkZyY2Pj5O4pKQENP8FvrGxAbqtrY3kcOvFrc5XaGUIQs0QhJohCFs2PuODICsqKkhudnYWND9RLT09HbTD4SA5vGmOr9o2NjaSeGpqCjTfxIafB7y9vSU5vDuFnxLX19cHml8HvV3h1coQhJohCJ+0Kd5uGhoaQPMTb+Li4kAvLS2RHN77yk/OSU5OBh0cHOx2PLjF8c12+Dv46gB+7oOvKuzu7rr9Tm/QyhCEmiEINUMQll0zCgoKQPOpJr6Dxs87x9NHvhzS3d0NuqqqiuRw709NTSU5vNHZGLqsgg88Nob+9wZeYjGGbqLDBx77Cq0MQagZgrD90eOysjIS41+2fEqMV035+eafn2KemCZ7uIzx/l86tTIEoWYIQs0QhO3XjKAgenORP+77m9HKEISaIQhRp+r8drQyBKFmCELNEISaIQg1QxBqhiB+7Lm2ksEbGz4+Pjx/ny8Go3iHmiEINUMQuhwiCK0MQagZglAzBKFmCELNEISaIYg/EaJ79FVs1mwAAAAASUVORK5CYII=\" y=\"-140.758125\"/>\n   </g>\n   <g id=\"matplotlib.axis_3\">\n    <g id=\"xtick_4\">\n     <g id=\"line2d_7\">\n      <g>\n       <use style=\"stroke:#000000;stroke-width:0.8;\" x=\"28.689935\" xlink:href=\"#m43214035ec\" y=\"239.758125\"/>\n      </g>\n     </g>\n     <g id=\"text_8\">\n      <!-- 0 -->\n      <g transform=\"translate(25.508685 254.356562)scale(0.1 -0.1)\">\n       <use xlink:href=\"#DejaVuSans-30\"/>\n      </g>\n     </g>\n    </g>\n    <g id=\"xtick_5\">\n     <g id=\"line2d_8\">\n      <g>\n       <use style=\"stroke:#000000;stroke-width:0.8;\" x=\"63.988636\" xlink:href=\"#m43214035ec\" y=\"239.758125\"/>\n      </g>\n     </g>\n     <g id=\"text_9\">\n      <!-- 10 -->\n      <g transform=\"translate(57.626136 254.356562)scale(0.1 -0.1)\">\n       <use xlink:href=\"#DejaVuSans-31\"/>\n       <use x=\"63.623047\" xlink:href=\"#DejaVuSans-30\"/>\n      </g>\n     </g>\n    </g>\n    <g id=\"xtick_6\">\n     <g id=\"line2d_9\">\n      <g>\n       <use style=\"stroke:#000000;stroke-width:0.8;\" x=\"99.287338\" xlink:href=\"#m43214035ec\" y=\"239.758125\"/>\n      </g>\n     </g>\n     <g id=\"text_10\">\n      <!-- 20 -->\n      <g transform=\"translate(92.924838 254.356562)scale(0.1 -0.1)\">\n       <use xlink:href=\"#DejaVuSans-32\"/>\n       <use x=\"63.623047\" xlink:href=\"#DejaVuSans-30\"/>\n      </g>\n     </g>\n    </g>\n   </g>\n   <g id=\"matplotlib.axis_4\">\n    <g id=\"ytick_4\">\n     <g id=\"line2d_10\">\n      <g>\n       <use style=\"stroke:#000000;stroke-width:0.8;\" x=\"26.925\" xlink:href=\"#m5e80c50185\" y=\"142.686696\"/>\n      </g>\n     </g>\n     <g id=\"text_11\">\n      <!-- 0 -->\n      <g transform=\"translate(13.5625 146.485915)scale(0.1 -0.1)\">\n       <use xlink:href=\"#DejaVuSans-30\"/>\n      </g>\n     </g>\n    </g>\n    <g id=\"ytick_5\">\n     <g id=\"line2d_11\">\n      <g>\n       <use style=\"stroke:#000000;stroke-width:0.8;\" x=\"26.925\" xlink:href=\"#m5e80c50185\" y=\"177.985398\"/>\n      </g>\n     </g>\n     <g id=\"text_12\">\n      <!-- 10 -->\n      <g transform=\"translate(7.2 181.784616)scale(0.1 -0.1)\">\n       <use xlink:href=\"#DejaVuSans-31\"/>\n       <use x=\"63.623047\" xlink:href=\"#DejaVuSans-30\"/>\n      </g>\n     </g>\n    </g>\n    <g id=\"ytick_6\">\n     <g id=\"line2d_12\">\n      <g>\n       <use style=\"stroke:#000000;stroke-width:0.8;\" x=\"26.925\" xlink:href=\"#m5e80c50185\" y=\"213.284099\"/>\n      </g>\n     </g>\n     <g id=\"text_13\">\n      <!-- 20 -->\n      <g transform=\"translate(7.2 217.083318)scale(0.1 -0.1)\">\n       <use xlink:href=\"#DejaVuSans-32\"/>\n       <use x=\"63.623047\" xlink:href=\"#DejaVuSans-30\"/>\n      </g>\n     </g>\n    </g>\n   </g>\n   <g id=\"patch_8\">\n    <path d=\"M 26.925 239.758125 \nL 26.925 140.921761 \n\" style=\"fill:none;stroke:#000000;stroke-linecap:square;stroke-linejoin:miter;stroke-width:0.8;\"/>\n   </g>\n   <g id=\"patch_9\">\n    <path d=\"M 125.761364 239.758125 \nL 125.761364 140.921761 \n\" style=\"fill:none;stroke:#000000;stroke-linecap:square;stroke-linejoin:miter;stroke-width:0.8;\"/>\n   </g>\n   <g id=\"patch_10\">\n    <path d=\"M 26.925 239.758125 \nL 125.761364 239.758125 \n\" style=\"fill:none;stroke:#000000;stroke-linecap:square;stroke-linejoin:miter;stroke-width:0.8;\"/>\n   </g>\n   <g id=\"patch_11\">\n    <path d=\"M 26.925 140.921761 \nL 125.761364 140.921761 \n\" style=\"fill:none;stroke:#000000;stroke-linecap:square;stroke-linejoin:miter;stroke-width:0.8;\"/>\n   </g>\n   <g id=\"text_14\">\n    <!-- Output image -->\n    <defs>\n     <path d=\"M 39.40625 66.21875 \nQ 28.65625 66.21875 22.328125 58.203125 \nQ 16.015625 50.203125 16.015625 36.375 \nQ 16.015625 22.609375 22.328125 14.59375 \nQ 28.65625 6.59375 39.40625 6.59375 \nQ 50.140625 6.59375 56.421875 14.59375 \nQ 62.703125 22.609375 62.703125 36.375 \nQ 62.703125 50.203125 56.421875 58.203125 \nQ 50.140625 66.21875 39.40625 66.21875 \nz\nM 39.40625 74.21875 \nQ 54.734375 74.21875 63.90625 63.9375 \nQ 73.09375 53.65625 73.09375 36.375 \nQ 73.09375 19.140625 63.90625 8.859375 \nQ 54.734375 -1.421875 39.40625 -1.421875 \nQ 24.03125 -1.421875 14.8125 8.828125 \nQ 5.609375 19.09375 5.609375 36.375 \nQ 5.609375 53.65625 14.8125 63.9375 \nQ 24.03125 74.21875 39.40625 74.21875 \nz\n\" id=\"DejaVuSans-4f\"/>\n    </defs>\n    <g transform=\"translate(34.905682 134.921761)scale(0.12 -0.12)\">\n     <use xlink:href=\"#DejaVuSans-4f\"/>\n     <use x=\"78.710938\" xlink:href=\"#DejaVuSans-75\"/>\n     <use x=\"142.089844\" xlink:href=\"#DejaVuSans-74\"/>\n     <use x=\"181.298828\" xlink:href=\"#DejaVuSans-70\"/>\n     <use x=\"244.775391\" xlink:href=\"#DejaVuSans-75\"/>\n     <use x=\"308.154297\" xlink:href=\"#DejaVuSans-74\"/>\n     <use x=\"347.363281\" xlink:href=\"#DejaVuSans-20\"/>\n     <use x=\"379.150391\" xlink:href=\"#DejaVuSans-69\"/>\n     <use x=\"406.933594\" xlink:href=\"#DejaVuSans-6d\"/>\n     <use x=\"504.345703\" xlink:href=\"#DejaVuSans-61\"/>\n     <use x=\"565.625\" xlink:href=\"#DejaVuSans-67\"/>\n     <use x=\"629.101562\" xlink:href=\"#DejaVuSans-65\"/>\n    </g>\n   </g>\n  </g>\n </g>\n <defs>\n  <clipPath id=\"p7abc716d42\">\n   <rect height=\"98.836364\" width=\"98.836364\" x=\"26.925\" y=\"22.318125\"/>\n  </clipPath>\n  <clipPath id=\"p9cb56820ca\">\n   <rect height=\"98.836364\" width=\"98.836364\" x=\"26.925\" y=\"140.921761\"/>\n  </clipPath>\n </defs>\n</svg>\n"
     },
     "metadata": {
      "needs_background": "light"
     }
    }
   ],
   "source": [
    "test_img = TestImages[0]\n",
    "\n",
    "output_img = net((test_img.double().to(device))/255).data\n",
    "output_img = (output_img*255).byte()\n",
    "output_img = output_img.view(-1, 28, 28)\n",
    "\n",
    "if device == \"cuda\":\n",
    "    output_img = output_img.cpu()\n",
    "\n",
    "test_img = test_img.view(-1, 28, 28)\n",
    "\n",
    "plt.subplot(2,1,1)\n",
    "img = np.array(test_img.numpy())[0]\n",
    "plt.title(\"Input image\")\n",
    "plt.imshow(img, cmap=\"gray\")\n",
    "\n",
    "plt.subplot(2,1,2)\n",
    "out_img = np.array(output_img.numpy())[0]\n",
    "plt.title(\"Output image\")\n",
    "plt.imshow(out_img, cmap=\"gray\")"
   ]
  },
  {
   "cell_type": "code",
   "execution_count": 34,
   "metadata": {
    "tags": []
   },
   "outputs": [
    {
     "output_type": "stream",
     "name": "stdout",
     "text": "Help on method_descriptor:\n\nview(...)\n    view(*shape) -&gt; Tensor\n    \n    Returns a new tensor with the same data as the :attr:`self` tensor but of a\n    different :attr:`shape`.\n    \n    The returned tensor shares the same data and must have the same number\n    of elements, but may have a different size. For a tensor to be viewed, the new\n    view size must be compatible with its original size and stride, i.e., each new\n    view dimension must either be a subspace of an original dimension, or only span\n    across original dimensions :math:`d, d+1, \\dots, d+k` that satisfy the following\n    contiguity-like condition that :math:`\\forall i = 0, \\dots, k-1`,\n    \n    .. math::\n    \n      \\text{stride}[i] = \\text{stride}[i+1] \\times \\text{size}[i+1]\n    \n    Otherwise, :meth:`contiguous` needs to be called before the tensor can be\n    viewed. See also: :meth:`reshape`, which returns a view if the shapes are\n    compatible, and copies (equivalent to calling :meth:`contiguous`) otherwise.\n    \n    Args:\n        shape (torch.Size or int...): the desired size\n    \n    Example::\n    \n        &gt;&gt;&gt; x = torch.randn(4, 4)\n        &gt;&gt;&gt; x.size()\n        torch.Size([4, 4])\n        &gt;&gt;&gt; y = x.view(16)\n        &gt;&gt;&gt; y.size()\n        torch.Size([16])\n        &gt;&gt;&gt; z = x.view(-1, 8)  # the size -1 is inferred from other dimensions\n        &gt;&gt;&gt; z.size()\n        torch.Size([2, 8])\n    \n        &gt;&gt;&gt; a = torch.randn(1, 2, 3, 4)\n        &gt;&gt;&gt; a.size()\n        torch.Size([1, 2, 3, 4])\n        &gt;&gt;&gt; b = a.transpose(1, 2)  # Swaps 2nd and 3rd dimension\n        &gt;&gt;&gt; b.size()\n        torch.Size([1, 3, 2, 4])\n        &gt;&gt;&gt; c = a.view(1, 3, 2, 4)  # Does not change tensor layout in memory\n        &gt;&gt;&gt; c.size()\n        torch.Size([1, 3, 2, 4])\n        &gt;&gt;&gt; torch.equal(b, c)\n        False\n\n"
    }
   ],
   "source": [
    "help(torch.Tensor.view)"
   ]
  },
  {
   "cell_type": "code",
   "execution_count": null,
   "metadata": {},
   "outputs": [],
   "source": []
  }
 ]
}